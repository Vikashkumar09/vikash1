{
 "cells": [
  {
   "cell_type": "code",
   "execution_count": null,
   "id": "1949a98a",
   "metadata": {},
   "outputs": [],
   "source": [
    "#Assignment 1"
   ]
  },
  {
   "cell_type": "code",
   "execution_count": null,
   "id": "49e0940a",
   "metadata": {},
   "outputs": [],
   "source": [
    "1. Write a Python program to print \"Hello Python\"?"
   ]
  },
  {
   "cell_type": "code",
   "execution_count": 1,
   "id": "93b4229e",
   "metadata": {},
   "outputs": [
    {
     "name": "stdout",
     "output_type": "stream",
     "text": [
      "Hello Python\n"
     ]
    }
   ],
   "source": [
    "print(\"Hello Python\")"
   ]
  },
  {
   "cell_type": "code",
   "execution_count": null,
   "id": "835b7d5c",
   "metadata": {},
   "outputs": [],
   "source": [
    "2. Write a Python program to do arithmetical operations addition and division.?"
   ]
  },
  {
   "cell_type": "code",
   "execution_count": 2,
   "id": "392254d1",
   "metadata": {},
   "outputs": [
    {
     "data": {
      "text/plain": [
       "4"
      ]
     },
     "execution_count": 2,
     "metadata": {},
     "output_type": "execute_result"
    }
   ],
   "source": [
    "1+3"
   ]
  },
  {
   "cell_type": "code",
   "execution_count": 3,
   "id": "f4fd6e89",
   "metadata": {},
   "outputs": [
    {
     "data": {
      "text/plain": [
       "0.5714285714285714"
      ]
     },
     "execution_count": 3,
     "metadata": {},
     "output_type": "execute_result"
    }
   ],
   "source": [
    "4/7"
   ]
  },
  {
   "cell_type": "code",
   "execution_count": null,
   "id": "f768ea92",
   "metadata": {},
   "outputs": [],
   "source": [
    "3.\tWrite a Python program to find the area of a triangle?"
   ]
  },
  {
   "cell_type": "code",
   "execution_count": 4,
   "id": "d4388b71",
   "metadata": {},
   "outputs": [
    {
     "name": "stdout",
     "output_type": "stream",
     "text": [
      "enter the length of first side5\n",
      "enter the length of second side6\n",
      "enter the length of third side7\n",
      "area of triangle is: 14.696938456699069\n",
      "perimeter of triangle is: 18\n",
      "semi perimeter of triangle is: 9.0\n"
     ]
    }
   ],
   "source": [
    "a = int(input(\"enter the length of first side\"))\n",
    "b = int(input(\"enter the length of second side\"))\n",
    "c = int(input(\"enter the length of third side\"))\n",
    "\n",
    "p = (a+b+c)\n",
    "s = p/2\n",
    "\n",
    "area = (s*(s-a)*(s-b)*(s-c))**0.5\n",
    "\n",
    "print(\"area of triangle is:\",area)\n",
    "print(\"perimeter of triangle is:\",p)\n",
    "print(\"semi perimeter of triangle is:\",s)"
   ]
  },
  {
   "cell_type": "code",
   "execution_count": null,
   "id": "29340809",
   "metadata": {},
   "outputs": [],
   "source": [
    "4.\tWrite a Python program to swap two variables?"
   ]
  },
  {
   "cell_type": "code",
   "execution_count": 5,
   "id": "77d6ba59",
   "metadata": {},
   "outputs": [
    {
     "name": "stdout",
     "output_type": "stream",
     "text": [
      "8\n",
      "5\n"
     ]
    }
   ],
   "source": [
    "a = 5\n",
    "b = 8\n",
    "\n",
    "a,b = b,a\n",
    "\n",
    "print(a)\n",
    "print(b)"
   ]
  },
  {
   "cell_type": "code",
   "execution_count": null,
   "id": "533af744",
   "metadata": {},
   "outputs": [],
   "source": [
    "5.\tWrite a Python program to generate a random number?"
   ]
  },
  {
   "cell_type": "code",
   "execution_count": 7,
   "id": "d08e48ae",
   "metadata": {},
   "outputs": [
    {
     "name": "stdout",
     "output_type": "stream",
     "text": [
      "6\n"
     ]
    }
   ],
   "source": [
    "import random\n",
    "#0,5\n",
    "print(random.randint(0,10))"
   ]
  },
  {
   "cell_type": "code",
   "execution_count": null,
   "id": "4fdde9d4",
   "metadata": {},
   "outputs": [],
   "source": []
  }
 ],
 "metadata": {
  "kernelspec": {
   "display_name": "Python 3 (ipykernel)",
   "language": "python",
   "name": "python3"
  },
  "language_info": {
   "codemirror_mode": {
    "name": "ipython",
    "version": 3
   },
   "file_extension": ".py",
   "mimetype": "text/x-python",
   "name": "python",
   "nbconvert_exporter": "python",
   "pygments_lexer": "ipython3",
   "version": "3.9.7"
  }
 },
 "nbformat": 4,
 "nbformat_minor": 5
}
